{
 "cells": [
  {
   "cell_type": "markdown",
   "metadata": {},
   "source": [
    "# Basic Record Linkage with Parallel Processing"
   ]
  },
  {
   "cell_type": "markdown",
   "metadata": {},
   "source": [
    "When dealing with data from different sources, whether its from surveys, internal data, external data vendors, or scraped from the web, we often want to link people or companies across the datasets. Unfortunately, we almost never start with perfectly clean data. Even when data is structured, people make absent minded mistakes like mixing up letters in names, individual values are recorded incorrectly, measurement error affects the results, and countless other things can happen. Sometimes, perhaps even more frustratingly, different sources use different names for the same entity (Last.FM vs. LastFM, J.P. Morgan Chase vs. JP Morgan Chase NA).\n",
    "\n",
    "These little discrepancies make it impossible to simply merge the data together on the unique identifiers.\n",
    "Trying to link individual or company data across sources is called record linkage, and it can be extremely time consuming.\n",
    "\n",
    "Fortunately, we can make this task significantly faster by parallelizing the code. In this post, I'll walk through basic record linkage (based on string similarity) with and without parallel processing, and show how the speed differences change with the size of the data."
   ]
  },
  {
   "cell_type": "markdown",
   "metadata": {},
   "source": [
    "# Getting Some Data"
   ]
  },
  {
   "cell_type": "markdown",
   "metadata": {},
   "source": [
    "First things first. I need a toy dataset to play with. I'll download a list of company names from the SEC, as these are what are commonly misspelled in datasets."
   ]
  },
  {
   "cell_type": "code",
   "execution_count": 104,
   "metadata": {
    "collapsed": true
   },
   "outputs": [],
   "source": [
    "import pandas as pd\n",
    "import requests\n",
    "import bs4\n",
    "import multiprocessing as mp\n",
    "import numpy as np\n",
    "import time\n",
    "from difflib import SequenceMatcher"
   ]
  },
  {
   "cell_type": "code",
   "execution_count": 2,
   "metadata": {
    "collapsed": true
   },
   "outputs": [],
   "source": [
    "sec_list_html = requests.get('https://www.sec.gov/rules/other/4-460list.htm').content\n",
    "sec_list_soup = bs4.BeautifulSoup(sec_list_html, 'lxml')\n",
    "companies_list = sec_list_soup.find_all('tr')[1:-1]\n",
    "companies_list_clean = [str(x.text.strip()).lower() for x in companies_list]"
   ]
  },
  {
   "cell_type": "markdown",
   "metadata": {},
   "source": [
    "Let's take a quick look."
   ]
  },
  {
   "cell_type": "code",
   "execution_count": 66,
   "metadata": {
    "collapsed": false,
    "scrolled": false
   },
   "outputs": [
    {
     "data": {
      "text/plain": [
       "['3com corp',\n",
       " '3m company',\n",
       " 'a.g. edwards inc.',\n",
       " 'abbott laboratories',\n",
       " 'abercrombie & fitch co.']"
      ]
     },
     "execution_count": 66,
     "metadata": {},
     "output_type": "execute_result"
    }
   ],
   "source": [
    "companies_list_clean[:5]"
   ]
  },
  {
   "cell_type": "markdown",
   "metadata": {},
   "source": [
    "Looks good.\n",
    "\n",
    "I should probably be happy about this, but I somehow couldn't find a list of company names with spelling errors. So I'll need to create a synthetic dataset with mistakes by randomly switching a few of the letters in the company names around."
   ]
  },
  {
   "cell_type": "markdown",
   "metadata": {},
   "source": [
    "# Creating Synthetic Data\n",
    "I'll define a function `switch_3_characters_randomly` to make my synthetic list of company names."
   ]
  },
  {
   "cell_type": "code",
   "execution_count": 70,
   "metadata": {
    "collapsed": true
   },
   "outputs": [],
   "source": [
    "def switch_3_characters_randomly(name, seed = None):\n",
    "    if seed:\n",
    "        np.random.seed(seed)\n",
    "    name_split = list(name)\n",
    "    flip_indices = np.random.choice(len(name), 3, replace = False)\n",
    "    a, b, c = flip_indices[0], flip_indices[1], flip_indices[2]\n",
    "    name_split[a], name_split[b], name_split[c] = name_split[c], name_split[b], name_split[a]\n",
    "    return ''.join(name_split)"
   ]
  },
  {
   "cell_type": "markdown",
   "metadata": {},
   "source": [
    "Time to try it out"
   ]
  },
  {
   "cell_type": "code",
   "execution_count": 73,
   "metadata": {
    "collapsed": false,
    "scrolled": true
   },
   "outputs": [
    {
     "name": "stdout",
     "output_type": "stream",
     "text": [
      "['mco3 corp', '3m copmany', 'a.g. edwards inc.', 'abbottrlabo atories', 'abercro bie & fitchmco.']\n",
      "['3com corp', '3m company', 'a.g. edwards inc.', 'abbott laboratories', 'abercrombie & fitch co.']\n"
     ]
    }
   ],
   "source": [
    "synthetic_companies_list = map(switch_3_characters_randomly, companies_list_clean)\n",
    "print synthetic_companies_list[:5]\n",
    "print companies_list_clean[:5]"
   ]
  },
  {
   "cell_type": "markdown",
   "metadata": {},
   "source": [
    "Perfect! Looks like it would be a nightmare to try and merge two datasets on these company names. Time to do"
   ]
  },
  {
   "cell_type": "markdown",
   "metadata": {},
   "source": [
    "# Fuzzy Matching"
   ]
  },
  {
   "cell_type": "markdown",
   "metadata": {},
   "source": [
    "There are many very smart algorithms for record linkage (William Cohen at Carnegie Mellon has some great information about smart algorithms on his [website](http://www.cs.cmu.edu/~wcohen/)).\n",
    "\n",
    "But, since I'm using a toy example, I'll implement a basic record linkage algorithm that I'd argue is still the most commonly used. This algorithm will calculate the number of matching sequences in two strings and the corresponding similarity ratio. For information about this, check out the `difflib` [documentation](https://docs.python.org/2/library/difflib.html)"
   ]
  },
  {
   "cell_type": "markdown",
   "metadata": {},
   "source": [
    "First, I'll define a function to get the similarity ratio of two company names."
   ]
  },
  {
   "cell_type": "code",
   "execution_count": 78,
   "metadata": {
    "collapsed": true
   },
   "outputs": [],
   "source": [
    "def match_ratio(name1, name2):\n",
    "    s = SequenceMatcher(None, name1, name2)\n",
    "    return s.ratio()"
   ]
  },
  {
   "cell_type": "code",
   "execution_count": 79,
   "metadata": {
    "collapsed": false,
    "scrolled": true
   },
   "outputs": [
    {
     "data": {
      "text/plain": [
       "0.8260869565217391"
      ]
     },
     "execution_count": 79,
     "metadata": {},
     "output_type": "execute_result"
    }
   ],
   "source": [
    "match_ratio(switch_3_characters_randomly('Abercrombie & Fitch Co.'),\n",
    "            switch_3_characters_randomly('Abercrombie & Fitch Co.'))"
   ]
  },
  {
   "cell_type": "markdown",
   "metadata": {},
   "source": [
    "Next, I'll define a function to \"fuzzy match\" (matching based on the similarity ratio) an individual synthetic company names with the real company names. I'll decide that a similarity ratio > 0.75 constitutes a match. By using a `flag` variable, we can make sure our output `match_list` has a value for every company checked (even if no match is found). This may or may not be desirable depending on the goal."
   ]
  },
  {
   "cell_type": "code",
   "execution_count": 80,
   "metadata": {
    "collapsed": true
   },
   "outputs": [],
   "source": [
    "def get_basic_fuzzy_matches(synthetic_name, threshold = 0.75):\n",
    "    match_list = []\n",
    "    flag = None\n",
    "    for name1 in companies_list_clean:\n",
    "        ratio = match_ratio(name1, synthetic_name)\n",
    "        if ratio > threshold:\n",
    "            if not flag:\n",
    "                flag = 1\n",
    "            match_list.append((synthetic_name, name1, ratio))\n",
    "            \n",
    "    if not flag:\n",
    "        match_list.append((synthetic_name, None, 0))\n",
    "            \n",
    "    return match_list"
   ]
  },
  {
   "cell_type": "code",
   "execution_count": 83,
   "metadata": {
    "collapsed": false
   },
   "outputs": [
    {
     "data": {
      "text/plain": [
       "[('idmanistaff, inc.', 'administaff, inc.', 0.8823529411764706)]"
      ]
     },
     "execution_count": 83,
     "metadata": {},
     "output_type": "execute_result"
    }
   ],
   "source": [
    "get_basic_fuzzy_matches(synthetic_companies_list[12])"
   ]
  },
  {
   "cell_type": "markdown",
   "metadata": {},
   "source": [
    "Let's do a quick test run to see if the functions are working. I'll map our function to some of the synthetic company names and see how we did."
   ]
  },
  {
   "cell_type": "code",
   "execution_count": 93,
   "metadata": {
    "collapsed": false,
    "scrolled": true
   },
   "outputs": [
    {
     "data": {
      "text/plain": [
       "[[('mco3 corp', '3com corp', 0.7777777777777778),\n",
       "  ('mco3 corp', 'fmc corp', 0.8235294117647058)],\n",
       " [('3m copmany', '3m company', 0.9)],\n",
       " [('a.g. edwards inc.', 'a.g. edwards inc.', 1.0)],\n",
       " [('abbottrlabo atories', 'abbott laboratories', 0.8947368421052632)],\n",
       " [('abercro bie & fitchmco.', 'abercrombie & fitch co.', 0.9130434782608695)]]"
      ]
     },
     "execution_count": 93,
     "metadata": {},
     "output_type": "execute_result"
    }
   ],
   "source": [
    "matches = map(get_basic_fuzzy_matches, synthetic_companies_list[:50])\n",
    "matches[:5]"
   ]
  },
  {
   "cell_type": "markdown",
   "metadata": {
    "collapsed": true
   },
   "source": [
    "Not bad! We clearly matched some correctly, but also have some false matches. Fuzzy matching is really useful, but it still requires going through the matched pairs to make sure the potential matches are correct. This takes some time, but _**way**_ less time than matching by hand."
   ]
  },
  {
   "cell_type": "markdown",
   "metadata": {},
   "source": [
    "# Parallel Fuzzy Matching"
   ]
  },
  {
   "cell_type": "markdown",
   "metadata": {},
   "source": [
    "Okay, so we've got the function working. How do we parallelize it? By shamelessly using the simple method detailed in [blog post](http://chriskiehl.com/article/parallelism-in-one-line/) by Chris Kiehl. In Python, we can map functions to data in parallel by using the `multiprocessing` module. Instead of using Python's base `map` function like I did above, I'll use the `map` function from `multiprocessing`.\n",
    "\n",
    "To actually implement the parallel fuzzy match I will:\n",
    "1. Initialize a multiprocessing.Pool object as `pool`\n",
    "2. Use the `map` function from `pool` and pass it my fuzzy match function and the synthetic companies list\n",
    "3. Close the pool\n",
    "4. Join the output from the pool workers\n",
    "\n",
    "It's really that simple."
   ]
  },
  {
   "cell_type": "code",
   "execution_count": 90,
   "metadata": {
    "collapsed": true
   },
   "outputs": [],
   "source": [
    "pool = mp.Pool()\n",
    "pooled_matches = pool.map(get_basic_fuzzy_matches, synthetic_companies_list[:50])\n",
    "pool.close()\n",
    "pool.join()"
   ]
  },
  {
   "cell_type": "markdown",
   "metadata": {},
   "source": [
    "This should be the same as bedore. I'll make sure they're the same and look at the first few matches"
   ]
  },
  {
   "cell_type": "code",
   "execution_count": 95,
   "metadata": {
    "collapsed": false,
    "scrolled": false
   },
   "outputs": [
    {
     "name": "stdout",
     "output_type": "stream",
     "text": [
      "True\n"
     ]
    },
    {
     "data": {
      "text/plain": [
       "[[('mco3 corp', '3com corp', 0.7777777777777778),\n",
       "  ('mco3 corp', 'fmc corp', 0.8235294117647058)],\n",
       " [('3m copmany', '3m company', 0.9)],\n",
       " [('a.g. edwards inc.', 'a.g. edwards inc.', 1.0)],\n",
       " [('abbottrlabo atories', 'abbott laboratories', 0.8947368421052632)],\n",
       " [('abercro bie & fitchmco.', 'abercrombie & fitch co.', 0.9130434782608695)]]"
      ]
     },
     "execution_count": 95,
     "metadata": {},
     "output_type": "execute_result"
    }
   ],
   "source": [
    "print pooled_matches == matches\n",
    "pooled_matches[:5]"
   ]
  },
  {
   "cell_type": "markdown",
   "metadata": {},
   "source": [
    "Looks like everything works correctly. But why go through this effort? How much faster is it actually?"
   ]
  },
  {
   "cell_type": "markdown",
   "metadata": {},
   "source": [
    "# Timing the Matching"
   ]
  },
  {
   "cell_type": "markdown",
   "metadata": {},
   "source": [
    "To see how much better the parallel version is, I'll time how long the fuzzy matching takes for different sized datasets in the standard form and in the parallel form."
   ]
  },
  {
   "cell_type": "code",
   "execution_count": 98,
   "metadata": {
    "collapsed": false,
    "scrolled": false
   },
   "outputs": [
    {
     "data": {
      "text/plain": [
       "[0, 105, 210, 315, 420, 526, 631, 736, 841, 947]"
      ]
     },
     "execution_count": 98,
     "metadata": {},
     "output_type": "execute_result"
    }
   ],
   "source": [
    "indices = map(int, np.linspace(0, len(companies_list_clean), 10))\n",
    "indices"
   ]
  },
  {
   "cell_type": "markdown",
   "metadata": {},
   "source": [
    "### Standard Fuzzy Matching"
   ]
  },
  {
   "cell_type": "code",
   "execution_count": 31,
   "metadata": {
    "collapsed": false
   },
   "outputs": [
    {
     "name": "stdout",
     "output_type": "stream",
     "text": [
      "105\n",
      "210\n",
      "315\n",
      "420\n",
      "526\n",
      "631\n",
      "736\n",
      "841\n",
      "947\n"
     ]
    }
   ],
   "source": [
    "times_list = []\n",
    "for i in indices[1:]:\n",
    "    print i\n",
    "    t0 = time.time()\n",
    "    matches = map(get_basic_fuzzy_matches, synthetic_companies_list[:i+1])\n",
    "    t1 = time.time()\n",
    "    times_list.append(t1-t0)"
   ]
  },
  {
   "cell_type": "markdown",
   "metadata": {},
   "source": [
    "### Parallel Fuzzy Matching"
   ]
  },
  {
   "cell_type": "code",
   "execution_count": 34,
   "metadata": {
    "collapsed": false,
    "scrolled": false
   },
   "outputs": [
    {
     "name": "stdout",
     "output_type": "stream",
     "text": [
      "105\n",
      "210\n",
      "315\n",
      "420\n",
      "526\n",
      "631\n",
      "736\n",
      "841\n",
      "947\n"
     ]
    }
   ],
   "source": [
    "times_list_pool = []\n",
    "for i in indices[1:]:\n",
    "    print i\n",
    "    pool = mp.Pool()\n",
    "    t0 = time.time()\n",
    "    pooled_matches = pool.map(get_basic_fuzzy_matches, synthetic_companies_list[:i+1])\n",
    "    t1 = time.time()\n",
    "    pool.close()\n",
    "    pool.join()\n",
    "    times_list_pool.append(t1-t0)"
   ]
  },
  {
   "cell_type": "markdown",
   "metadata": {},
   "source": [
    "### Plotting the Time at Different Sizes"
   ]
  },
  {
   "cell_type": "code",
   "execution_count": 105,
   "metadata": {
    "collapsed": true
   },
   "outputs": [],
   "source": [
    "import seaborn as sns\n",
    "import matplotlib.pyplot as plt\n",
    "%matplotlib inline"
   ]
  },
  {
   "cell_type": "code",
   "execution_count": 113,
   "metadata": {
    "collapsed": false
   },
   "outputs": [
    {
     "data": {
      "text/plain": [
       "<matplotlib.legend.Legend at 0x11faf8dd0>"
      ]
     },
     "execution_count": 113,
     "metadata": {},
     "output_type": "execute_result"
    },
    {
     "data": {
      "image/png": "[encoded data removed]",
      "text/plain": [
       "<matplotlib.figure.Figure at 0x11ee19810>"
      ]
     },
     "metadata": {},
     "output_type": "display_data"
    }
   ],
   "source": [
    "f = plt.figure(figsize = (12, 8))\n",
    "ax = plt.axes()\n",
    "sns.set(font_scale = 1.25)\n",
    "plt.plot(indices[1:], times_list, color = 'blue', label = 'Standard Record Linkage')\n",
    "plt.plot(indices[1:], times_list_pool, color = 'green', label = 'Parallel Record Linkage')\n",
    "plt.xlabel('Number of Synthetic Companies to Match', size = 15)\n",
    "plt.ylabel('Time Elapsed (Seconds)', size = 15)\n",
    "ax.xaxis.set_label_position('bottom')\n",
    "sns.despine(left = True, bottom = True)\n",
    "plt.title('Time to Complete Fuzzy Match of Company Names', size = 20)\n",
    "plt.legend(loc = 'best')"
   ]
  },
  {
   "cell_type": "markdown",
   "metadata": {},
   "source": [
    "As the size of the dataset increases, the time value of parallel processing increases. With small datasets, parallel processing isn't much faster. As the dataset gets larger, parallel processing is significantly faster. This makes sense. In order to execute the code in parallel, more actions have to be taken under the hood. The computer needs to divide the data, store metadata about the divisions, and recombine the data at the end. This is all in addition to mapping the function to the data. This takes non-zero time, so the benefit of parallel programming increases in the size of the dataset (the slope of the green line in the graph is shallower)."
   ]
  },
  {
   "cell_type": "markdown",
   "metadata": {},
   "source": [
    "# Conclusion"
   ]
  },
  {
   "cell_type": "markdown",
   "metadata": {},
   "source": [
    "In this example, we didn't have that many entities to compare. Our real company dataset has only 947 companies. Parallel record linkage was 2-3 times faster, but we could handle this task without it since it still doesn't take that long. With more cores to utilize (my laptop only has a couple of cores), the parallel fuzzy match would be even faster and scale more effectively to massive datasets. This kind of standard record linkage lends itself nicely to being distributed on a computer cluster. In fact, that's how I would usually run this kind of code."
   ]
  },
  {
   "cell_type": "code",
   "execution_count": null,
   "metadata": {
    "collapsed": true
   },
   "outputs": [],
   "source": []
  },
  {
   "cell_type": "code",
   "execution_count": null,
   "metadata": {
    "collapsed": true
   },
   "outputs": [],
   "source": []
  },
  {
   "cell_type": "code",
   "execution_count": 43,
   "metadata": {
    "collapsed": false
   },
   "outputs": [],
   "source": [
    "import pandas as pd\n",
    "\n",
    "data = pd.DataFrame({'indices':indices[1:],\n",
    "                   'times_list_sequential':times_list,\n",
    "                   'pool_6_parallel':times_list_pool})"
   ]
  },
  {
   "cell_type": "code",
   "execution_count": 44,
   "metadata": {
    "collapsed": true
   },
   "outputs": [],
   "source": [
    "data.to_csv('fuzzy_matching_time_comparison.csv', index = False)"
   ]
  },
  {
   "cell_type": "code",
   "execution_count": null,
   "metadata": {
    "collapsed": true
   },
   "outputs": [],
   "source": []
  }
 ],
 "metadata": {
  "anaconda-cloud": {},
  "kernelspec": {
   "display_name": "Python [Root]",
   "language": "python",
   "name": "Python [Root]"
  },
  "language_info": {
   "codemirror_mode": {
    "name": "ipython",
    "version": 2
   },
   "file_extension": ".py",
   "mimetype": "text/x-python",
   "name": "python",
   "nbconvert_exporter": "python",
   "pygments_lexer": "ipython2",
   "version": "2.7.12"
  }
 },
 "nbformat": 4,
 "nbformat_minor": 0
}
